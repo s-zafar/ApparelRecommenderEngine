{
 "cells": [
  {
   "cell_type": "markdown",
   "metadata": {},
   "source": [
    "# Installations and Loading Data"
   ]
  },
  {
   "cell_type": "markdown",
   "metadata": {},
   "source": [
    "# Overview the Data"
   ]
  },
  {
   "cell_type": "code",
   "execution_count": 14,
   "metadata": {},
   "outputs": [
    {
     "name": "stdout",
     "output_type": "stream",
     "text": [
      "Requirement already satisfied: plotly==4.3.0 in /Users/Samrin/anaconda3/lib/python3.7/site-packages (4.3.0)\r\n",
      "Requirement already satisfied: six in /Users/Samrin/anaconda3/lib/python3.7/site-packages (from plotly==4.3.0) (1.12.0)\r\n",
      "Requirement already satisfied: retrying>=1.3.3 in /Users/Samrin/anaconda3/lib/python3.7/site-packages (from plotly==4.3.0) (1.3.3)\r\n"
     ]
    }
   ],
   "source": [
    "#Installing plotly 4.3.0 version\n",
    "! pip install plotly==4.3.0"
   ]
  },
  {
   "cell_type": "code",
   "execution_count": 15,
   "metadata": {},
   "outputs": [
    {
     "name": "stdout",
     "output_type": "stream",
     "text": [
      "Requirement already satisfied: chart_studio in /Users/Samrin/anaconda3/lib/python3.7/site-packages (1.0.0)\n",
      "Requirement already satisfied: plotly in /Users/Samrin/anaconda3/lib/python3.7/site-packages (from chart_studio) (4.3.0)\n",
      "Requirement already satisfied: retrying>=1.3.3 in /Users/Samrin/anaconda3/lib/python3.7/site-packages (from chart_studio) (1.3.3)\n",
      "Requirement already satisfied: requests in /Users/Samrin/anaconda3/lib/python3.7/site-packages (from chart_studio) (2.22.0)\n",
      "Requirement already satisfied: six in /Users/Samrin/anaconda3/lib/python3.7/site-packages (from chart_studio) (1.12.0)\n",
      "Requirement already satisfied: urllib3!=1.25.0,!=1.25.1,<1.26,>=1.21.1 in /Users/Samrin/anaconda3/lib/python3.7/site-packages (from requests->chart_studio) (1.24.2)\n",
      "Requirement already satisfied: chardet<3.1.0,>=3.0.2 in /Users/Samrin/anaconda3/lib/python3.7/site-packages (from requests->chart_studio) (3.0.4)\n",
      "Requirement already satisfied: idna<2.9,>=2.5 in /Users/Samrin/anaconda3/lib/python3.7/site-packages (from requests->chart_studio) (2.8)\n",
      "Requirement already satisfied: certifi>=2017.4.17 in /Users/Samrin/anaconda3/lib/python3.7/site-packages (from requests->chart_studio) (2019.6.16)\n"
     ]
    }
   ],
   "source": [
    "#install Chart Studio's python package\n",
    "! pip install chart_studio"
   ]
  },
  {
   "cell_type": "code",
   "execution_count": 16,
   "metadata": {},
   "outputs": [
    {
     "name": "stdout",
     "output_type": "stream",
     "text": [
      "Requirement already satisfied: notebook in /Users/Samrin/anaconda3/lib/python3.7/site-packages (6.0.0)\n",
      "Requirement already satisfied: jupyter-core>=4.4.0 in /Users/Samrin/anaconda3/lib/python3.7/site-packages (from notebook) (4.5.0)\n",
      "Requirement already satisfied: prometheus-client in /Users/Samrin/anaconda3/lib/python3.7/site-packages (from notebook) (0.7.1)\n",
      "Requirement already satisfied: nbformat in /Users/Samrin/anaconda3/lib/python3.7/site-packages (from notebook) (4.4.0)\n",
      "Requirement already satisfied: traitlets>=4.2.1 in /Users/Samrin/anaconda3/lib/python3.7/site-packages (from notebook) (4.3.2)\n",
      "Requirement already satisfied: ipython-genutils in /Users/Samrin/anaconda3/lib/python3.7/site-packages (from notebook) (0.2.0)\n",
      "Requirement already satisfied: Send2Trash in /Users/Samrin/anaconda3/lib/python3.7/site-packages (from notebook) (1.5.0)\n",
      "Requirement already satisfied: pyzmq>=17 in /Users/Samrin/anaconda3/lib/python3.7/site-packages (from notebook) (18.0.0)\n",
      "Requirement already satisfied: terminado>=0.8.1 in /Users/Samrin/anaconda3/lib/python3.7/site-packages (from notebook) (0.8.2)\n",
      "Requirement already satisfied: jupyter-client>=5.3.1 in /Users/Samrin/anaconda3/lib/python3.7/site-packages (from notebook) (5.3.1)\n",
      "Requirement already satisfied: jinja2 in /Users/Samrin/anaconda3/lib/python3.7/site-packages (from notebook) (2.10.1)\n",
      "Requirement already satisfied: nbconvert in /Users/Samrin/anaconda3/lib/python3.7/site-packages (from notebook) (5.5.0)\n",
      "Requirement already satisfied: tornado>=5.0 in /Users/Samrin/anaconda3/lib/python3.7/site-packages (from notebook) (6.0.3)\n",
      "Requirement already satisfied: ipykernel in /Users/Samrin/anaconda3/lib/python3.7/site-packages (from notebook) (5.1.1)\n",
      "Requirement already satisfied: jsonschema!=2.5.0,>=2.4 in /Users/Samrin/anaconda3/lib/python3.7/site-packages (from nbformat->notebook) (3.0.1)\n",
      "Requirement already satisfied: six in /Users/Samrin/anaconda3/lib/python3.7/site-packages (from traitlets>=4.2.1->notebook) (1.12.0)\n",
      "Requirement already satisfied: decorator in /Users/Samrin/anaconda3/lib/python3.7/site-packages (from traitlets>=4.2.1->notebook) (4.4.0)\n",
      "Requirement already satisfied: python-dateutil>=2.1 in /Users/Samrin/anaconda3/lib/python3.7/site-packages (from jupyter-client>=5.3.1->notebook) (2.8.0)\n",
      "Requirement already satisfied: MarkupSafe>=0.23 in /Users/Samrin/anaconda3/lib/python3.7/site-packages (from jinja2->notebook) (1.1.1)\n",
      "Requirement already satisfied: bleach in /Users/Samrin/anaconda3/lib/python3.7/site-packages (from nbconvert->notebook) (3.1.0)\n",
      "Requirement already satisfied: testpath in /Users/Samrin/anaconda3/lib/python3.7/site-packages (from nbconvert->notebook) (0.4.2)\n",
      "Requirement already satisfied: mistune>=0.8.1 in /Users/Samrin/anaconda3/lib/python3.7/site-packages (from nbconvert->notebook) (0.8.4)\n",
      "Requirement already satisfied: pygments in /Users/Samrin/anaconda3/lib/python3.7/site-packages (from nbconvert->notebook) (2.4.2)\n",
      "Requirement already satisfied: pandocfilters>=1.4.1 in /Users/Samrin/anaconda3/lib/python3.7/site-packages (from nbconvert->notebook) (1.4.2)\n",
      "Requirement already satisfied: defusedxml in /Users/Samrin/anaconda3/lib/python3.7/site-packages (from nbconvert->notebook) (0.6.0)\n",
      "Requirement already satisfied: entrypoints>=0.2.2 in /Users/Samrin/anaconda3/lib/python3.7/site-packages (from nbconvert->notebook) (0.3)\n",
      "Requirement already satisfied: ipython>=5.0.0 in /Users/Samrin/anaconda3/lib/python3.7/site-packages (from ipykernel->notebook) (7.6.1)\n",
      "Requirement already satisfied: attrs>=17.4.0 in /Users/Samrin/anaconda3/lib/python3.7/site-packages (from jsonschema!=2.5.0,>=2.4->nbformat->notebook) (19.1.0)\n",
      "Requirement already satisfied: pyrsistent>=0.14.0 in /Users/Samrin/anaconda3/lib/python3.7/site-packages (from jsonschema!=2.5.0,>=2.4->nbformat->notebook) (0.14.11)\n",
      "Requirement already satisfied: setuptools in /Users/Samrin/anaconda3/lib/python3.7/site-packages (from jsonschema!=2.5.0,>=2.4->nbformat->notebook) (41.0.1)\n",
      "Requirement already satisfied: webencodings in /Users/Samrin/anaconda3/lib/python3.7/site-packages (from bleach->nbconvert->notebook) (0.5.1)\n",
      "Requirement already satisfied: prompt-toolkit<2.1.0,>=2.0.0 in /Users/Samrin/anaconda3/lib/python3.7/site-packages (from ipython>=5.0.0->ipykernel->notebook) (2.0.9)\n",
      "Requirement already satisfied: pickleshare in /Users/Samrin/anaconda3/lib/python3.7/site-packages (from ipython>=5.0.0->ipykernel->notebook) (0.7.5)\n",
      "Requirement already satisfied: backcall in /Users/Samrin/anaconda3/lib/python3.7/site-packages (from ipython>=5.0.0->ipykernel->notebook) (0.1.0)\n",
      "Requirement already satisfied: appnope; sys_platform == \"darwin\" in /Users/Samrin/anaconda3/lib/python3.7/site-packages (from ipython>=5.0.0->ipykernel->notebook) (0.1.0)\n",
      "Requirement already satisfied: jedi>=0.10 in /Users/Samrin/anaconda3/lib/python3.7/site-packages (from ipython>=5.0.0->ipykernel->notebook) (0.13.3)\n",
      "Requirement already satisfied: pexpect; sys_platform != \"win32\" in /Users/Samrin/anaconda3/lib/python3.7/site-packages (from ipython>=5.0.0->ipykernel->notebook) (4.7.0)\n",
      "Requirement already satisfied: wcwidth in /Users/Samrin/anaconda3/lib/python3.7/site-packages (from prompt-toolkit<2.1.0,>=2.0.0->ipython>=5.0.0->ipykernel->notebook) (0.1.7)\n",
      "Requirement already satisfied: parso>=0.3.0 in /Users/Samrin/anaconda3/lib/python3.7/site-packages (from jedi>=0.10->ipython>=5.0.0->ipykernel->notebook) (0.5.0)\n",
      "Requirement already satisfied: ptyprocess>=0.5 in /Users/Samrin/anaconda3/lib/python3.7/site-packages (from pexpect; sys_platform != \"win32\"->ipython>=5.0.0->ipykernel->notebook) (0.6.0)\n"
     ]
    }
   ],
   "source": [
    "! pip install notebook"
   ]
  },
  {
   "cell_type": "code",
   "execution_count": 17,
   "metadata": {},
   "outputs": [
    {
     "data": {
      "text/html": [
       "        <script type=\"text/javascript\">\n",
       "        window.PlotlyConfig = {MathJaxConfig: 'local'};\n",
       "        if (window.MathJax) {MathJax.Hub.Config({SVG: {font: \"STIX-Web\"}});}\n",
       "        if (typeof require !== 'undefined') {\n",
       "        require.undef(\"plotly\");\n",
       "        requirejs.config({\n",
       "            paths: {\n",
       "                'plotly': ['https://cdn.plot.ly/plotly-latest.min']\n",
       "            }\n",
       "        });\n",
       "        require(['plotly'], function(Plotly) {\n",
       "            window._Plotly = Plotly;\n",
       "        });\n",
       "        }\n",
       "        </script>\n",
       "        "
      ]
     },
     "metadata": {},
     "output_type": "display_data"
    }
   ],
   "source": [
    "from PIL import Image\n",
    "import requests\n",
    "from io import BytesIO\n",
    "import matplotlib.pyplot as plt\n",
    "import numpy as np\n",
    "import pandas as pd\n",
    "import warnings\n",
    "from bs4 import BeautifulSoup\n",
    "from nltk.corpus import stopwords\n",
    "from nltk.tokenize import word_tokenize\n",
    "import nltk\n",
    "import math\n",
    "import time\n",
    "import re \n",
    "import os\n",
    "import seaborn as sns\n",
    "from collections import Counter\n",
    "from sklearn.feature_extraction.text import CountVectorizer\n",
    "from sklearn.feature_extraction.text import TfidfVectorizer\n",
    "from sklearn.metrics.pairwise import cosine_similarity \n",
    "from sklearn.metrics import pairwise_distances\n",
    "from matplotlib import gridspec\n",
    "from scipy.sparse import hstack\n",
    "\n",
    "import chart_studio\n",
    "import chart_studio.plotly as py\n",
    "import plotly.graph_objects as go\n",
    "import plotly.figure_factory as FF\n",
    "import plotly.io as pio\n",
    "from plotly.offline import plot, iplot, init_notebook_mode\n",
    "init_notebook_mode(connected=True)\n",
    "\n",
    "warnings.filterwarnings(\"ignore\")"
   ]
  },
  {
   "cell_type": "code",
   "execution_count": 18,
   "metadata": {},
   "outputs": [
    {
     "data": {
      "text/plain": [
       "(183138, 19)"
      ]
     },
     "execution_count": 18,
     "metadata": {},
     "output_type": "execute_result"
    }
   ],
   "source": [
    "''' JSON file contains all the information about products.\n",
    "    Loading the data using pandas\n",
    "'''\n",
    "data=pd.read_json(\"tops_fashion.json\")\n",
    "data.shape"
   ]
  },
  {
   "cell_type": "code",
   "execution_count": 19,
   "metadata": {},
   "outputs": [
    {
     "data": {
      "text/html": [
       "<div>\n",
       "<style scoped>\n",
       "    .dataframe tbody tr th:only-of-type {\n",
       "        vertical-align: middle;\n",
       "    }\n",
       "\n",
       "    .dataframe tbody tr th {\n",
       "        vertical-align: top;\n",
       "    }\n",
       "\n",
       "    .dataframe thead th {\n",
       "        text-align: right;\n",
       "    }\n",
       "</style>\n",
       "<table border=\"1\" class=\"dataframe\">\n",
       "  <thead>\n",
       "    <tr style=\"text-align: right;\">\n",
       "      <th></th>\n",
       "      <th>sku</th>\n",
       "      <th>asin</th>\n",
       "      <th>product_type_name</th>\n",
       "      <th>formatted_price</th>\n",
       "      <th>author</th>\n",
       "      <th>color</th>\n",
       "      <th>brand</th>\n",
       "      <th>publisher</th>\n",
       "      <th>availability</th>\n",
       "      <th>reviews</th>\n",
       "      <th>large_image_url</th>\n",
       "      <th>availability_type</th>\n",
       "      <th>small_image_url</th>\n",
       "      <th>editorial_review</th>\n",
       "      <th>title</th>\n",
       "      <th>model</th>\n",
       "      <th>medium_image_url</th>\n",
       "      <th>manufacturer</th>\n",
       "      <th>editorial_reivew</th>\n",
       "    </tr>\n",
       "  </thead>\n",
       "  <tbody>\n",
       "    <tr>\n",
       "      <td>0</td>\n",
       "      <td>None</td>\n",
       "      <td>B016I2TS4W</td>\n",
       "      <td>SHIRT</td>\n",
       "      <td>None</td>\n",
       "      <td>None</td>\n",
       "      <td>None</td>\n",
       "      <td>FNC7C</td>\n",
       "      <td>None</td>\n",
       "      <td>None</td>\n",
       "      <td>[False, https://www.amazon.com/reviews/iframe?...</td>\n",
       "      <td>https://images-na.ssl-images-amazon.com/images...</td>\n",
       "      <td>None</td>\n",
       "      <td>https://images-na.ssl-images-amazon.com/images...</td>\n",
       "      <td>Minions Como Superheroes Ironman Women's O Nec...</td>\n",
       "      <td>Minions Como Superheroes Ironman Long Sleeve R...</td>\n",
       "      <td>None</td>\n",
       "      <td>https://images-na.ssl-images-amazon.com/images...</td>\n",
       "      <td>None</td>\n",
       "      <td>NaN</td>\n",
       "    </tr>\n",
       "    <tr>\n",
       "      <td>1</td>\n",
       "      <td>None</td>\n",
       "      <td>B01N49AI08</td>\n",
       "      <td>SHIRT</td>\n",
       "      <td>None</td>\n",
       "      <td>None</td>\n",
       "      <td>None</td>\n",
       "      <td>FIG Clothing</td>\n",
       "      <td>None</td>\n",
       "      <td>None</td>\n",
       "      <td>[False, https://www.amazon.com/reviews/iframe?...</td>\n",
       "      <td>https://images-na.ssl-images-amazon.com/images...</td>\n",
       "      <td>None</td>\n",
       "      <td>https://images-na.ssl-images-amazon.com/images...</td>\n",
       "      <td>Sizing runs on the small side. FIG® recommends...</td>\n",
       "      <td>FIG Clothing Womens Izo Tunic</td>\n",
       "      <td>None</td>\n",
       "      <td>https://images-na.ssl-images-amazon.com/images...</td>\n",
       "      <td>None</td>\n",
       "      <td>NaN</td>\n",
       "    </tr>\n",
       "    <tr>\n",
       "      <td>2</td>\n",
       "      <td>None</td>\n",
       "      <td>B01JDPCOHO</td>\n",
       "      <td>SHIRT</td>\n",
       "      <td>None</td>\n",
       "      <td>None</td>\n",
       "      <td>None</td>\n",
       "      <td>FIG Clothing</td>\n",
       "      <td>None</td>\n",
       "      <td>None</td>\n",
       "      <td>[False, https://www.amazon.com/reviews/iframe?...</td>\n",
       "      <td>https://images-na.ssl-images-amazon.com/images...</td>\n",
       "      <td>None</td>\n",
       "      <td>https://images-na.ssl-images-amazon.com/images...</td>\n",
       "      <td>Sizing runs on the small side. FIG® recommends...</td>\n",
       "      <td>FIG Clothing Womens Won Top</td>\n",
       "      <td>None</td>\n",
       "      <td>https://images-na.ssl-images-amazon.com/images...</td>\n",
       "      <td>None</td>\n",
       "      <td>NaN</td>\n",
       "    </tr>\n",
       "    <tr>\n",
       "      <td>3</td>\n",
       "      <td>None</td>\n",
       "      <td>B01N19U5H5</td>\n",
       "      <td>SHIRT</td>\n",
       "      <td>None</td>\n",
       "      <td>None</td>\n",
       "      <td>None</td>\n",
       "      <td>Focal18</td>\n",
       "      <td>None</td>\n",
       "      <td>None</td>\n",
       "      <td>[True, https://www.amazon.com/reviews/iframe?a...</td>\n",
       "      <td>https://images-na.ssl-images-amazon.com/images...</td>\n",
       "      <td>None</td>\n",
       "      <td>https://images-na.ssl-images-amazon.com/images...</td>\n",
       "      <td>100% Brand New &amp; Fashion&lt;br&gt; Quantity: 1 Piece...</td>\n",
       "      <td>Focal18 Sailor Collar Bubble Sleeve Blouse Shi...</td>\n",
       "      <td>None</td>\n",
       "      <td>https://images-na.ssl-images-amazon.com/images...</td>\n",
       "      <td>None</td>\n",
       "      <td>NaN</td>\n",
       "    </tr>\n",
       "    <tr>\n",
       "      <td>4</td>\n",
       "      <td>None</td>\n",
       "      <td>B004GSI2OS</td>\n",
       "      <td>SHIRT</td>\n",
       "      <td>$26.26</td>\n",
       "      <td>None</td>\n",
       "      <td>Onyx Black/ Stone</td>\n",
       "      <td>FeatherLite</td>\n",
       "      <td>None</td>\n",
       "      <td>Usually ships in 6-10 business days</td>\n",
       "      <td>[False, https://www.amazon.com/reviews/iframe?...</td>\n",
       "      <td>https://images-na.ssl-images-amazon.com/images...</td>\n",
       "      <td>now</td>\n",
       "      <td>https://images-na.ssl-images-amazon.com/images...</td>\n",
       "      <td></td>\n",
       "      <td>Featherlite Ladies' Long Sleeve Stain Resistan...</td>\n",
       "      <td>None</td>\n",
       "      <td>https://images-na.ssl-images-amazon.com/images...</td>\n",
       "      <td>None</td>\n",
       "      <td>NaN</td>\n",
       "    </tr>\n",
       "  </tbody>\n",
       "</table>\n",
       "</div>"
      ],
      "text/plain": [
       "    sku        asin product_type_name formatted_price author  \\\n",
       "0  None  B016I2TS4W             SHIRT            None   None   \n",
       "1  None  B01N49AI08             SHIRT            None   None   \n",
       "2  None  B01JDPCOHO             SHIRT            None   None   \n",
       "3  None  B01N19U5H5             SHIRT            None   None   \n",
       "4  None  B004GSI2OS             SHIRT          $26.26   None   \n",
       "\n",
       "               color         brand publisher  \\\n",
       "0               None         FNC7C      None   \n",
       "1               None  FIG Clothing      None   \n",
       "2               None  FIG Clothing      None   \n",
       "3               None       Focal18      None   \n",
       "4  Onyx Black/ Stone   FeatherLite      None   \n",
       "\n",
       "                          availability  \\\n",
       "0                                 None   \n",
       "1                                 None   \n",
       "2                                 None   \n",
       "3                                 None   \n",
       "4  Usually ships in 6-10 business days   \n",
       "\n",
       "                                             reviews  \\\n",
       "0  [False, https://www.amazon.com/reviews/iframe?...   \n",
       "1  [False, https://www.amazon.com/reviews/iframe?...   \n",
       "2  [False, https://www.amazon.com/reviews/iframe?...   \n",
       "3  [True, https://www.amazon.com/reviews/iframe?a...   \n",
       "4  [False, https://www.amazon.com/reviews/iframe?...   \n",
       "\n",
       "                                     large_image_url availability_type  \\\n",
       "0  https://images-na.ssl-images-amazon.com/images...              None   \n",
       "1  https://images-na.ssl-images-amazon.com/images...              None   \n",
       "2  https://images-na.ssl-images-amazon.com/images...              None   \n",
       "3  https://images-na.ssl-images-amazon.com/images...              None   \n",
       "4  https://images-na.ssl-images-amazon.com/images...               now   \n",
       "\n",
       "                                     small_image_url  \\\n",
       "0  https://images-na.ssl-images-amazon.com/images...   \n",
       "1  https://images-na.ssl-images-amazon.com/images...   \n",
       "2  https://images-na.ssl-images-amazon.com/images...   \n",
       "3  https://images-na.ssl-images-amazon.com/images...   \n",
       "4  https://images-na.ssl-images-amazon.com/images...   \n",
       "\n",
       "                                    editorial_review  \\\n",
       "0  Minions Como Superheroes Ironman Women's O Nec...   \n",
       "1  Sizing runs on the small side. FIG® recommends...   \n",
       "2  Sizing runs on the small side. FIG® recommends...   \n",
       "3  100% Brand New & Fashion<br> Quantity: 1 Piece...   \n",
       "4                                                      \n",
       "\n",
       "                                               title model  \\\n",
       "0  Minions Como Superheroes Ironman Long Sleeve R...  None   \n",
       "1                      FIG Clothing Womens Izo Tunic  None   \n",
       "2                        FIG Clothing Womens Won Top  None   \n",
       "3  Focal18 Sailor Collar Bubble Sleeve Blouse Shi...  None   \n",
       "4  Featherlite Ladies' Long Sleeve Stain Resistan...  None   \n",
       "\n",
       "                                    medium_image_url manufacturer  \\\n",
       "0  https://images-na.ssl-images-amazon.com/images...         None   \n",
       "1  https://images-na.ssl-images-amazon.com/images...         None   \n",
       "2  https://images-na.ssl-images-amazon.com/images...         None   \n",
       "3  https://images-na.ssl-images-amazon.com/images...         None   \n",
       "4  https://images-na.ssl-images-amazon.com/images...         None   \n",
       "\n",
       "  editorial_reivew  \n",
       "0              NaN  \n",
       "1              NaN  \n",
       "2              NaN  \n",
       "3              NaN  \n",
       "4              NaN  "
      ]
     },
     "execution_count": 19,
     "metadata": {},
     "output_type": "execute_result"
    }
   ],
   "source": [
    "data.head()"
   ]
  },
  {
   "cell_type": "code",
   "execution_count": 28,
   "metadata": {},
   "outputs": [
    {
     "name": "stdout",
     "output_type": "stream",
     "text": [
      " Number of data points/products:183138\n",
      " Number of features/variables:6\n"
     ]
    }
   ],
   "source": [
    "print(' Number of data points/products:{}\\n Number of features/variables:{}'.format(data.shape[0], data.shape[1]))"
   ]
  },
  {
   "cell_type": "code",
   "execution_count": 21,
   "metadata": {},
   "outputs": [
    {
     "data": {
      "text/plain": [
       "Index(['sku', 'asin', 'product_type_name', 'formatted_price', 'author',\n",
       "       'color', 'brand', 'publisher', 'availability', 'reviews',\n",
       "       'large_image_url', 'availability_type', 'small_image_url',\n",
       "       'editorial_review', 'title', 'model', 'medium_image_url',\n",
       "       'manufacturer', 'editorial_reivew'],\n",
       "      dtype='object')"
      ]
     },
     "execution_count": 21,
     "metadata": {},
     "output_type": "execute_result"
    }
   ],
   "source": [
    "# Each product has 19 features or variables. \n",
    "data.columns"
   ]
  },
  {
   "cell_type": "code",
   "execution_count": 22,
   "metadata": {},
   "outputs": [],
   "source": [
    "#Out of 19 features we will be only using the 7 relevant features and discarding the rest.\n",
    "#Features we are going to keep are :\n",
    "data=data[['brand','color','medium_image_url','product_type_name','title','formatted_price']]\n",
    "#Alternative method \n",
    "#data=pd.DataFrame(data, columns ='['brand','color','medium_image_url','product_type_name','title','formatted_price'])"
   ]
  },
  {
   "cell_type": "code",
   "execution_count": 24,
   "metadata": {},
   "outputs": [
    {
     "data": {
      "text/html": [
       "<div>\n",
       "<style scoped>\n",
       "    .dataframe tbody tr th:only-of-type {\n",
       "        vertical-align: middle;\n",
       "    }\n",
       "\n",
       "    .dataframe tbody tr th {\n",
       "        vertical-align: top;\n",
       "    }\n",
       "\n",
       "    .dataframe thead th {\n",
       "        text-align: right;\n",
       "    }\n",
       "</style>\n",
       "<table border=\"1\" class=\"dataframe\">\n",
       "  <thead>\n",
       "    <tr style=\"text-align: right;\">\n",
       "      <th></th>\n",
       "      <th>brand</th>\n",
       "      <th>color</th>\n",
       "      <th>medium_image_url</th>\n",
       "      <th>product_type_name</th>\n",
       "      <th>title</th>\n",
       "      <th>formatted_price</th>\n",
       "    </tr>\n",
       "  </thead>\n",
       "  <tbody>\n",
       "    <tr>\n",
       "      <td>0</td>\n",
       "      <td>FNC7C</td>\n",
       "      <td>None</td>\n",
       "      <td>https://images-na.ssl-images-amazon.com/images...</td>\n",
       "      <td>SHIRT</td>\n",
       "      <td>Minions Como Superheroes Ironman Long Sleeve R...</td>\n",
       "      <td>None</td>\n",
       "    </tr>\n",
       "    <tr>\n",
       "      <td>1</td>\n",
       "      <td>FIG Clothing</td>\n",
       "      <td>None</td>\n",
       "      <td>https://images-na.ssl-images-amazon.com/images...</td>\n",
       "      <td>SHIRT</td>\n",
       "      <td>FIG Clothing Womens Izo Tunic</td>\n",
       "      <td>None</td>\n",
       "    </tr>\n",
       "    <tr>\n",
       "      <td>2</td>\n",
       "      <td>FIG Clothing</td>\n",
       "      <td>None</td>\n",
       "      <td>https://images-na.ssl-images-amazon.com/images...</td>\n",
       "      <td>SHIRT</td>\n",
       "      <td>FIG Clothing Womens Won Top</td>\n",
       "      <td>None</td>\n",
       "    </tr>\n",
       "    <tr>\n",
       "      <td>3</td>\n",
       "      <td>Focal18</td>\n",
       "      <td>None</td>\n",
       "      <td>https://images-na.ssl-images-amazon.com/images...</td>\n",
       "      <td>SHIRT</td>\n",
       "      <td>Focal18 Sailor Collar Bubble Sleeve Blouse Shi...</td>\n",
       "      <td>None</td>\n",
       "    </tr>\n",
       "    <tr>\n",
       "      <td>4</td>\n",
       "      <td>FeatherLite</td>\n",
       "      <td>Onyx Black/ Stone</td>\n",
       "      <td>https://images-na.ssl-images-amazon.com/images...</td>\n",
       "      <td>SHIRT</td>\n",
       "      <td>Featherlite Ladies' Long Sleeve Stain Resistan...</td>\n",
       "      <td>$26.26</td>\n",
       "    </tr>\n",
       "  </tbody>\n",
       "</table>\n",
       "</div>"
      ],
      "text/plain": [
       "          brand              color  \\\n",
       "0         FNC7C               None   \n",
       "1  FIG Clothing               None   \n",
       "2  FIG Clothing               None   \n",
       "3       Focal18               None   \n",
       "4   FeatherLite  Onyx Black/ Stone   \n",
       "\n",
       "                                    medium_image_url product_type_name  \\\n",
       "0  https://images-na.ssl-images-amazon.com/images...             SHIRT   \n",
       "1  https://images-na.ssl-images-amazon.com/images...             SHIRT   \n",
       "2  https://images-na.ssl-images-amazon.com/images...             SHIRT   \n",
       "3  https://images-na.ssl-images-amazon.com/images...             SHIRT   \n",
       "4  https://images-na.ssl-images-amazon.com/images...             SHIRT   \n",
       "\n",
       "                                               title formatted_price  \n",
       "0  Minions Como Superheroes Ironman Long Sleeve R...            None  \n",
       "1                      FIG Clothing Womens Izo Tunic            None  \n",
       "2                        FIG Clothing Womens Won Top            None  \n",
       "3  Focal18 Sailor Collar Bubble Sleeve Blouse Shi...            None  \n",
       "4  Featherlite Ladies' Long Sleeve Stain Resistan...          $26.26  "
      ]
     },
     "execution_count": 24,
     "metadata": {},
     "output_type": "execute_result"
    }
   ],
   "source": [
    "data.head()"
   ]
  },
  {
   "cell_type": "code",
   "execution_count": 27,
   "metadata": {},
   "outputs": [
    {
     "name": "stdout",
     "output_type": "stream",
     "text": [
      "Number of data points, products:183138\n",
      "Number of features/variables:6\n"
     ]
    }
   ],
   "source": [
    "#Checking:\n",
    "print('Number of data points, products:{}\\nNumber of features/variables:{}'.format(data.shape[0],data.shape[1]))"
   ]
  },
  {
   "cell_type": "code",
   "execution_count": null,
   "metadata": {},
   "outputs": [],
   "source": [
    "_END_"
   ]
  }
 ],
 "metadata": {
  "kernelspec": {
   "display_name": "Python 3",
   "language": "python",
   "name": "python3"
  },
  "language_info": {
   "codemirror_mode": {
    "name": "ipython",
    "version": 3
   },
   "file_extension": ".py",
   "mimetype": "text/x-python",
   "name": "python",
   "nbconvert_exporter": "python",
   "pygments_lexer": "ipython3",
   "version": "3.7.3"
  }
 },
 "nbformat": 4,
 "nbformat_minor": 2
}
